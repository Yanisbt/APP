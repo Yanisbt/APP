{
 "cells": [
  {
   "cell_type": "markdown",
   "id": "a20017ae-8b5e-4188-9d8f-7bf72ec575a7",
   "metadata": {},
   "source": [
    "On importe les librairies"
   ]
  },
  {
   "cell_type": "code",
   "execution_count": 7,
   "id": "5cebe672-1cd9-4f59-b207-9b38f0ec3162",
   "metadata": {},
   "outputs": [
    {
     "name": "stdout",
     "output_type": "stream",
     "text": [
      "  Order ID                     Product Quantity Ordered Price Each  \\\n",
      "0   176558        USB-C Charging Cable                2      11.95   \n",
      "1      NaN                         NaN              NaN        NaN   \n",
      "2   176559  Bose SoundSport Headphones                1      99.99   \n",
      "3   176560                Google Phone                1        600   \n",
      "4   176560            Wired Headphones                1      11.99   \n",
      "\n",
      "       Order Date                      Purchase Address  \n",
      "0  04/19/19 08:46          917 1st St, Dallas, TX 75001  \n",
      "1             NaN                                   NaN  \n",
      "2  04/07/19 22:30     682 Chestnut St, Boston, MA 02215  \n",
      "3  04/12/19 14:38  669 Spruce St, Los Angeles, CA 90001  \n",
      "4  04/12/19 14:38  669 Spruce St, Los Angeles, CA 90001  \n",
      "Index(['Order ID', 'Product', 'Quantity Ordered', 'Price Each', 'Order Date',\n",
      "       'Purchase Address'],\n",
      "      dtype='object')\n"
     ]
    },
    {
     "name": "stderr",
     "output_type": "stream",
     "text": [
      "C:\\Users\\Yanis ESME\\AppData\\Local\\Temp\\ipykernel_12792\\3358437448.py:18: UserWarning: Could not infer format, so each element will be parsed individually, falling back to `dateutil`. To ensure parsing is consistent and as-expected, please specify a format.\n",
      "  df['Order Date'] = pd.to_datetime(df['Order Date'], errors='coerce')  # Conversion correcte\n"
     ]
    },
    {
     "name": "stdout",
     "output_type": "stream",
     "text": [
      "\n",
      "1. Filtrer par date\n",
      "2. Filtrer par produit\n",
      "3. Ajouter une vente\n",
      "4. Modifier une vente\n",
      "5. Chiffre d'affaires total\n",
      "6. Quitter\n"
     ]
    },
    {
     "ename": "KeyboardInterrupt",
     "evalue": "Interrupted by user",
     "output_type": "error",
     "traceback": [
      "\u001b[1;31m---------------------------------------------------------------------------\u001b[0m",
      "\u001b[1;31mKeyboardInterrupt\u001b[0m                         Traceback (most recent call last)",
      "Cell \u001b[1;32mIn[7], line 95\u001b[0m\n\u001b[0;32m     92\u001b[0m             \u001b[38;5;28mprint\u001b[39m(\u001b[38;5;124m\"\u001b[39m\u001b[38;5;124mChoix invalide.\u001b[39m\u001b[38;5;124m\"\u001b[39m)\n\u001b[0;32m     94\u001b[0m \u001b[38;5;28;01mif\u001b[39;00m \u001b[38;5;18m__name__\u001b[39m \u001b[38;5;241m==\u001b[39m \u001b[38;5;124m\"\u001b[39m\u001b[38;5;124m__main__\u001b[39m\u001b[38;5;124m\"\u001b[39m:\n\u001b[1;32m---> 95\u001b[0m     menu()\n",
      "Cell \u001b[1;32mIn[7], line 65\u001b[0m, in \u001b[0;36mmenu\u001b[1;34m()\u001b[0m\n\u001b[0;32m     62\u001b[0m \u001b[38;5;28mprint\u001b[39m(\u001b[38;5;124m\"\u001b[39m\u001b[38;5;124m5. Chiffre d\u001b[39m\u001b[38;5;124m'\u001b[39m\u001b[38;5;124maffaires total\u001b[39m\u001b[38;5;124m\"\u001b[39m)\n\u001b[0;32m     63\u001b[0m \u001b[38;5;28mprint\u001b[39m(\u001b[38;5;124m\"\u001b[39m\u001b[38;5;124m6. Quitter\u001b[39m\u001b[38;5;124m\"\u001b[39m)\n\u001b[1;32m---> 65\u001b[0m choix \u001b[38;5;241m=\u001b[39m \u001b[38;5;28minput\u001b[39m(\u001b[38;5;124m\"\u001b[39m\u001b[38;5;124mChoisissez une option : \u001b[39m\u001b[38;5;124m\"\u001b[39m)\n\u001b[0;32m     67\u001b[0m \u001b[38;5;28;01mif\u001b[39;00m choix \u001b[38;5;241m==\u001b[39m \u001b[38;5;124m'\u001b[39m\u001b[38;5;124m1\u001b[39m\u001b[38;5;124m'\u001b[39m:\n\u001b[0;32m     68\u001b[0m     date \u001b[38;5;241m=\u001b[39m \u001b[38;5;28minput\u001b[39m(\u001b[38;5;124m\"\u001b[39m\u001b[38;5;124mEntrez la date (MM/JJ/YY Heure:Minutes) : \u001b[39m\u001b[38;5;124m\"\u001b[39m)\n",
      "File \u001b[1;32m~\\anaconda3\\Lib\\site-packages\\ipykernel\\kernelbase.py:1282\u001b[0m, in \u001b[0;36mKernel.raw_input\u001b[1;34m(self, prompt)\u001b[0m\n\u001b[0;32m   1280\u001b[0m     msg \u001b[38;5;241m=\u001b[39m \u001b[38;5;124m\"\u001b[39m\u001b[38;5;124mraw_input was called, but this frontend does not support input requests.\u001b[39m\u001b[38;5;124m\"\u001b[39m\n\u001b[0;32m   1281\u001b[0m     \u001b[38;5;28;01mraise\u001b[39;00m StdinNotImplementedError(msg)\n\u001b[1;32m-> 1282\u001b[0m \u001b[38;5;28;01mreturn\u001b[39;00m \u001b[38;5;28mself\u001b[39m\u001b[38;5;241m.\u001b[39m_input_request(\n\u001b[0;32m   1283\u001b[0m     \u001b[38;5;28mstr\u001b[39m(prompt),\n\u001b[0;32m   1284\u001b[0m     \u001b[38;5;28mself\u001b[39m\u001b[38;5;241m.\u001b[39m_parent_ident[\u001b[38;5;124m\"\u001b[39m\u001b[38;5;124mshell\u001b[39m\u001b[38;5;124m\"\u001b[39m],\n\u001b[0;32m   1285\u001b[0m     \u001b[38;5;28mself\u001b[39m\u001b[38;5;241m.\u001b[39mget_parent(\u001b[38;5;124m\"\u001b[39m\u001b[38;5;124mshell\u001b[39m\u001b[38;5;124m\"\u001b[39m),\n\u001b[0;32m   1286\u001b[0m     password\u001b[38;5;241m=\u001b[39m\u001b[38;5;28;01mFalse\u001b[39;00m,\n\u001b[0;32m   1287\u001b[0m )\n",
      "File \u001b[1;32m~\\anaconda3\\Lib\\site-packages\\ipykernel\\kernelbase.py:1325\u001b[0m, in \u001b[0;36mKernel._input_request\u001b[1;34m(self, prompt, ident, parent, password)\u001b[0m\n\u001b[0;32m   1322\u001b[0m \u001b[38;5;28;01mexcept\u001b[39;00m \u001b[38;5;167;01mKeyboardInterrupt\u001b[39;00m:\n\u001b[0;32m   1323\u001b[0m     \u001b[38;5;66;03m# re-raise KeyboardInterrupt, to truncate traceback\u001b[39;00m\n\u001b[0;32m   1324\u001b[0m     msg \u001b[38;5;241m=\u001b[39m \u001b[38;5;124m\"\u001b[39m\u001b[38;5;124mInterrupted by user\u001b[39m\u001b[38;5;124m\"\u001b[39m\n\u001b[1;32m-> 1325\u001b[0m     \u001b[38;5;28;01mraise\u001b[39;00m \u001b[38;5;167;01mKeyboardInterrupt\u001b[39;00m(msg) \u001b[38;5;28;01mfrom\u001b[39;00m \u001b[38;5;28;01mNone\u001b[39;00m\n\u001b[0;32m   1326\u001b[0m \u001b[38;5;28;01mexcept\u001b[39;00m \u001b[38;5;167;01mException\u001b[39;00m:\n\u001b[0;32m   1327\u001b[0m     \u001b[38;5;28mself\u001b[39m\u001b[38;5;241m.\u001b[39mlog\u001b[38;5;241m.\u001b[39mwarning(\u001b[38;5;124m\"\u001b[39m\u001b[38;5;124mInvalid Message:\u001b[39m\u001b[38;5;124m\"\u001b[39m, exc_info\u001b[38;5;241m=\u001b[39m\u001b[38;5;28;01mTrue\u001b[39;00m)\n",
      "\u001b[1;31mKeyboardInterrupt\u001b[0m: Interrupted by user"
     ]
    },
    {
     "name": "stdin",
     "output_type": "stream",
     "text": [
      "Choisissez une option :  6\n"
     ]
    }
   ],
   "source": [
    "import csv # pour manipuler les données du .csv\n",
    "import os # pour se diriger dans les dossiers\n",
    "import pandas as pd # permet d'analyser les données\n",
    "\n",
    "\n",
    "# on importe le fichier\n",
    "fichier = \"Sales_April_2019.csv\"\n",
    "df = pd.read_csv(fichier, sep=\",\", quotechar='\"', engine=\"python\", on_bad_lines='skip', header=0)\n",
    "\n",
    "print(df.head())  # Vérifie les premières lignes\n",
    "print(df.columns)  # Vérifie si toutes les colonnes sont bien détectées\n",
    "\n",
    "\n",
    "# fonction qui charge les données du fichier csv\n",
    "def charger_donnees(fichier):\n",
    "    try:\n",
    "        df = pd.read_csv(fichier, sep=\",\", quotechar='\"', engine=\"python\", on_bad_lines='skip')\n",
    "        df['Order Date'] = pd.to_datetime(df['Order Date'], errors='coerce')  # Conversion correcte\n",
    "        return df\n",
    "    except FileNotFoundError:\n",
    "        print(\"Fichier non trouvé.\")\n",
    "        return None\n",
    "    \n",
    "# fonction qui filtre les ventes par date\n",
    "def filtrer_par_date(df, date):\n",
    "    date = pd.to_datetime(date, errors='coerce')  \n",
    "    return df[df['Order Date'].dt.date == date.date()]  \n",
    "\n",
    "# fonction qui filtre les ventes par produit\n",
    "def filtrer_par_produit(df, produit):\n",
    "    return df[df['Product'].str.strip().str.lower() == produit.strip().lower()]  # pour ignorer les espaces et les majuscules\n",
    "\n",
    "# fonction qui ajoute une vente\n",
    "def ajouter_vente(df, nouvelle_vente, fichier):\n",
    "    df = df.append(nouvelle_vente, ignore_index=True)\n",
    "    df.to_csv(fichier, index=False)\n",
    "    print(\"Nouvelle vente ajoutée !\")\n",
    "\n",
    "# fonction qui modifie une vente\n",
    "def modifier_vente(df, order_id, nouvelle_quantite, nouveau_prix, fichier):\n",
    "    df.loc[df['Order ID'].astype(str) == str(order_id), ['Quantity Ordered', 'Price Each']] = [nouvelle_quantite, nouveau_prix]\n",
    "    df.to_csv(fichier, index=False)\n",
    "    print(\"Vente mise à jour !\")\n",
    "\n",
    "# fonction qui calcule chiffre d'affaires total\n",
    "def calculer_ca_total(df):\n",
    "    df['Quantity Ordered'] = pd.to_numeric(df['Quantity Ordered'], errors='coerce')\n",
    "    df[\"Price Each\"] = pd.to_numeric(df[\"Price Each\"], errors='coerce')\n",
    "    return (df['Quantity Ordered'] * df['Price Each']).sum()\n",
    "\n",
    "# le menu principal\n",
    "def menu():\n",
    "    df = charger_donnees(fichier)\n",
    "    if df is None:\n",
    "        return\n",
    "    \n",
    "    while True:\n",
    "        print(\"\\n1. Filtrer par date\")\n",
    "        print(\"2. Filtrer par produit\")\n",
    "        print(\"3. Ajouter une vente\")\n",
    "        print(\"4. Modifier une vente\")\n",
    "        print(\"5. Chiffre d'affaires total\")\n",
    "        print(\"6. Quitter\")\n",
    "        \n",
    "        choix = input(\"Choisissez une option : \")\n",
    "        \n",
    "        if choix == '1':\n",
    "            date = input(\"Entrez la date (MM/JJ/YY Heure:Minutes) : \")\n",
    "            print(filtrer_par_date(df, date))\n",
    "        elif choix == '2':\n",
    "            produit = input(\"Entrez le produit : \")\n",
    "            print(filtrer_par_produit(df, produit))\n",
    "        elif choix == '3':\n",
    "            order_id = input(\"Order ID : XXXXXX \")\n",
    "            produit = input(\"Produit : \")\n",
    "            quantite = int(input(\"Quantité : \"))\n",
    "            prix = float(input(\"Prix : \"))\n",
    "            date = input(\"Date (MM/JJ/YY Heure : Minutes) : \")\n",
    "            adresse = input(\"Adresse d'achat : \")\n",
    "            nouvelle_vente = {'Order ID': order_id, 'Product': produit, 'Quantity Ordered': quantite, 'Price Each': prix, 'Order Date': date, 'Purchase Address': adresse}\n",
    "            ajouter_vente(df, nouvelle_vente, fichier)\n",
    "        elif choix == '4':\n",
    "            order_id = input(\"Entrez l'Order ID à modifier : \")\n",
    "            quantite = int(input(\"Nouvelle quantité : \"))\n",
    "            prix = float(input(\"Nouveau prix : \"))\n",
    "            modifier_vente(df, order_id, quantite, prix, fichier)\n",
    "        elif choix == '5':\n",
    "            print(\"Chiffre d'affaires total :\", calculer_ca_total(df))\n",
    "        elif choix == '6':\n",
    "            break\n",
    "        else:\n",
    "            print(\"Choix invalide.\")\n",
    "\n",
    "if __name__ == \"__main__\":\n",
    "    menu()\n"
   ]
  },
  {
   "cell_type": "markdown",
   "id": "0814ef61-a38d-47c9-9692-4db98350ff1c",
   "metadata": {},
   "source": [
    "On importe le fichier issu du même dossier"
   ]
  },
  {
   "cell_type": "code",
   "execution_count": null,
   "id": "96dca8de-c3ed-4cf6-94cd-956b42c320ed",
   "metadata": {},
   "outputs": [],
   "source": [
    "# on importe le fichier\n",
    "fichier = \"C:/Users/Yanis ESME/Desktop/ESME/APP/APP/Sales_April_2019.csv\"\n",
    "df = pd.read_csv(fichier, sep=\",\", quotechar='\"', engine=\"python\", on_bad_lines='skip', header=0)\n",
    "\n",
    "print(df.head())  # Vérifie les premières lignes\n",
    "print(df.columns)  # Vérifie si toutes les colonnes sont bien détectées"
   ]
  },
  {
   "cell_type": "markdown",
   "id": "c146cec9-3151-4075-9918-e05102a6223b",
   "metadata": {},
   "source": [
    "On crée les fonctions de filtrage, et de modification des données"
   ]
  },
  {
   "cell_type": "code",
   "execution_count": null,
   "id": "7af634e1-3371-48d2-b5f6-15496ca56c4f",
   "metadata": {},
   "outputs": [],
   "source": [
    "# fonction qui charge les données du fichier csv\n",
    "def charger_donnees(fichier):\n",
    "    try:\n",
    "        df = pd.read_csv(fichier, sep=\",\", quotechar='\"', engine=\"python\", on_bad_lines='skip')\n",
    "        df['Order Date'] = pd.to_datetime(df['Order Date'], errors='coerce')  # Conversion correcte\n",
    "        return df\n",
    "    except FileNotFoundError:\n",
    "        print(\"Fichier non trouvé.\")\n",
    "        return None\n",
    "    \n",
    "# fonction qui filtre les ventes par date\n",
    "def filtrer_par_date(df, date):\n",
    "    date = pd.to_datetime(date, errors='coerce')  \n",
    "    return df[df['Order Date'].dt.date == date.date()]  \n",
    "\n",
    "# fonction qui filtre les ventes par produit\n",
    "def filtrer_par_produit(df, produit):\n",
    "    return df[df['Product'].str.strip().str.lower() == produit.strip().lower()]  # pour ignorer les espaces et les majuscules\n",
    "\n",
    "# fonction qui ajoute une vente\n",
    "def ajouter_vente(df, nouvelle_vente, fichier):\n",
    "    df = df.append(nouvelle_vente, ignore_index=True)\n",
    "    df.to_csv(fichier, index=False)\n",
    "    print(\"Nouvelle vente ajoutée !\")\n",
    "\n",
    "# fonction qui modifie une vente\n",
    "def modifier_vente(df, order_id, nouvelle_quantite, nouveau_prix, fichier):\n",
    "    df.loc[df['Order ID'].astype(str) == str(order_id), ['Quantity Ordered', 'Price Each']] = [nouvelle_quantite, nouveau_prix]\n",
    "    df.to_csv(fichier, index=False)\n",
    "    print(\"Vente mise à jour !\")\n",
    "\n",
    "# fonction qui calcule chiffre d'affaires total\n",
    "def calculer_ca_total(df):\n",
    "    df['Quantity Ordered'] = pd.to_numeric(df['Quantity Ordered'], errors='coerce')\n",
    "    df[\"Price Each\"] = pd.to_numeric(df[\"Price Each\"], errors='coerce')\n",
    "    return (df['Quantity Ordered'] * df['Price Each']).sum()\n"
   ]
  },
  {
   "cell_type": "markdown",
   "id": "21e276c5-ebcf-4f4f-8df9-80df8d49c71a",
   "metadata": {},
   "source": [
    "On crée la fonction menu, qui réunis toutes les fonctions précédentes"
   ]
  },
  {
   "cell_type": "code",
   "execution_count": 10,
   "id": "c8eadf66-63db-4113-a6d0-95e4d0a9a0ed",
   "metadata": {},
   "outputs": [
    {
     "name": "stderr",
     "output_type": "stream",
     "text": [
      "C:\\Users\\Yanis ESME\\AppData\\Local\\Temp\\ipykernel_12792\\3358437448.py:18: UserWarning: Could not infer format, so each element will be parsed individually, falling back to `dateutil`. To ensure parsing is consistent and as-expected, please specify a format.\n",
      "  df['Order Date'] = pd.to_datetime(df['Order Date'], errors='coerce')  # Conversion correcte\n"
     ]
    },
    {
     "name": "stdout",
     "output_type": "stream",
     "text": [
      "\n",
      "1. Filtrer par date\n",
      "2. Filtrer par produit\n",
      "3. Ajouter une vente\n",
      "4. Modifier une vente\n",
      "5. Chiffre d'affaires total\n",
      "6. Quitter\n"
     ]
    },
    {
     "name": "stdin",
     "output_type": "stream",
     "text": [
      "Choisissez une option :  1\n",
      "Entrez la date (MM/JJ/YY Heure:Minutes) :  04/07/19 22:30\n"
     ]
    },
    {
     "name": "stdout",
     "output_type": "stream",
     "text": [
      "      Order ID                     Product Quantity Ordered Price Each  \\\n",
      "2       176559  Bose SoundSport Headphones                1      99.99   \n",
      "30      176585  Bose SoundSport Headphones                1      99.99   \n",
      "31      176585  Bose SoundSport Headphones                1      99.99   \n",
      "61      176614       AA Batteries (4-pack)                1       3.84   \n",
      "98      176651                      iPhone                1        700   \n",
      "...        ...                         ...              ...        ...   \n",
      "18014   193745        USB-C Charging Cable                1      11.95   \n",
      "18038   193769        USB-C Charging Cable                1      11.95   \n",
      "18086   193814  Bose SoundSport Headphones                1      99.99   \n",
      "18199   193921      AAA Batteries (4-pack)                1       2.99   \n",
      "18259   193977      AAA Batteries (4-pack)                1       2.99   \n",
      "\n",
      "               Order Date                         Purchase Address  \n",
      "2     2019-04-07 22:30:00        682 Chestnut St, Boston, MA 02215  \n",
      "30    2019-04-07 11:31:00        823 Highland St, Boston, MA 02215  \n",
      "31    2019-04-07 11:31:00        823 Highland St, Boston, MA 02215  \n",
      "61    2019-04-07 21:01:00  647 Jackson St, San Francisco, CA 94016  \n",
      "98    2019-04-07 13:14:00           997 South St, Boston, MA 02215  \n",
      "...                   ...                                      ...  \n",
      "18014 2019-04-07 01:35:00  789 Jackson St, New York City, NY 10001  \n",
      "18038 2019-04-07 21:57:00          250 Maple St, Atlanta, GA 30301  \n",
      "18086 2019-04-07 14:04:00            978 2nd St, Seattle, WA 98101  \n",
      "18199 2019-04-07 10:07:00     984 13th St, San Francisco, CA 94016  \n",
      "18259 2019-04-07 20:43:00           181 Cedar St, Boston, MA 02215  \n",
      "\n",
      "[572 rows x 6 columns]\n",
      "\n",
      "1. Filtrer par date\n",
      "2. Filtrer par produit\n",
      "3. Ajouter une vente\n",
      "4. Modifier une vente\n",
      "5. Chiffre d'affaires total\n",
      "6. Quitter\n"
     ]
    },
    {
     "name": "stdin",
     "output_type": "stream",
     "text": [
      "Choisissez une option :  6\n"
     ]
    }
   ],
   "source": [
    "# le menu principal\n",
    "def menu():\n",
    "    df = charger_donnees(fichier)\n",
    "    if df is None:\n",
    "        return\n",
    "    \n",
    "    while True:\n",
    "        print(\"\\n1. Filtrer par date\")\n",
    "        print(\"2. Filtrer par produit\")\n",
    "        print(\"3. Ajouter une vente\")\n",
    "        print(\"4. Modifier une vente\")\n",
    "        print(\"5. Chiffre d'affaires total\")\n",
    "        print(\"6. Quitter\")\n",
    "        \n",
    "        choix = input(\"Choisissez une option : \")\n",
    "        \n",
    "        if choix == '1':\n",
    "            date = input(\"Entrez la date (MM/JJ/YY Heure:Minutes) : \")\n",
    "            print(filtrer_par_date(df, date))\n",
    "        elif choix == '2':\n",
    "            produit = input(\"Entrez le produit : \")\n",
    "            print(filtrer_par_produit(df, produit))\n",
    "        elif choix == '3':\n",
    "            order_id = input(\"Order ID : XXXXXX \")\n",
    "            produit = input(\"Produit : \")\n",
    "            quantite = int(input(\"Quantité : \"))\n",
    "            prix = float(input(\"Prix : \"))\n",
    "            date = input(\"Date (MM/JJ/YY Heure : Minutes) : \")\n",
    "            adresse = input(\"Adresse d'achat : \")\n",
    "            nouvelle_vente = {'Order ID': order_id, 'Product': produit, 'Quantity Ordered': quantite, 'Price Each': prix, 'Order Date': date, 'Purchase Address': adresse}\n",
    "            ajouter_vente(df, nouvelle_vente, fichier)\n",
    "        elif choix == '4':\n",
    "            order_id = input(\"Entrez l'Order ID à modifier : \")\n",
    "            quantite = int(input(\"Nouvelle quantité : \"))\n",
    "            prix = float(input(\"Nouveau prix : \"))\n",
    "            modifier_vente(df, order_id, quantite, prix, fichier)\n",
    "        elif choix == '5':\n",
    "            print(\"Chiffre d'affaires total :\", calculer_ca_total(df))\n",
    "        elif choix == '6':\n",
    "            break\n",
    "        else:\n",
    "            print(\"Choix invalide.\")\n",
    "\n",
    "if __name__ == \"__main__\":\n",
    "    menu()"
   ]
  }
 ],
 "metadata": {
  "kernelspec": {
   "display_name": "Python 3 (ipykernel)",
   "language": "python",
   "name": "python3"
  },
  "language_info": {
   "codemirror_mode": {
    "name": "ipython",
    "version": 3
   },
   "file_extension": ".py",
   "mimetype": "text/x-python",
   "name": "python",
   "nbconvert_exporter": "python",
   "pygments_lexer": "ipython3",
   "version": "3.12.4"
  }
 },
 "nbformat": 4,
 "nbformat_minor": 5
}
